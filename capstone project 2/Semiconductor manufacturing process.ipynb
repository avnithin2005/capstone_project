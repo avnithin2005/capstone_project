{
  "nbformat": 4,
  "nbformat_minor": 0,
  "metadata": {
    "colab": {
      "provenance": []
    },
    "kernelspec": {
      "name": "python3",
      "display_name": "Python 3"
    },
    "language_info": {
      "name": "python"
    }
  },
  "cells": [
    {
      "cell_type": "code",
      "execution_count": 1,
      "metadata": {
        "id": "2Oz0MmFmsmaG"
      },
      "outputs": [],
      "source": [
        "import pandas as pd\n",
        "import numpy as np\n",
        "import matplotlib.pyplot as plt\n",
        "import seaborn as sns\n",
        "from sklearn.model_selection import train_test_split, GridSearchCV, cross_val_score\n",
        "from sklearn.preprocessing import StandardScaler\n",
        "from sklearn.ensemble import RandomForestClassifier\n",
        "from sklearn.svm import SVC\n",
        "from sklearn.naive_bayes import GaussianNB\n",
        "from sklearn.metrics import classification_report, confusion_matrix, accuracy_score\n",
        "from imblearn.over_sampling import SMOTE\n",
        "import warnings\n",
        "warnings.filterwarnings('ignore')\n"
      ]
    },
    {
      "cell_type": "code",
      "source": [
        "data = pd.read_csv(\"sensor-data.csv\")\n",
        "print(data.shape)\n",
        "print(data.head())\n",
        "print(data.info())\n",
        "print(data.describe())"
      ],
      "metadata": {
        "colab": {
          "base_uri": "https://localhost:8080/"
        },
        "id": "gMFaE0SsvcHK",
        "outputId": "e15fa4e5-c17f-488b-b6bd-bca6ace85799"
      },
      "execution_count": 2,
      "outputs": [
        {
          "output_type": "stream",
          "name": "stdout",
          "text": [
            "(4100, 9)\n",
            "   ID                       Datetime  Temperature   Humidity    Pressure  \\\n",
            "0   0  Mon, 20 May 2019 19:08:34 GMT    23.005257  33.060454  972.784433   \n",
            "1   1  Mon, 20 May 2019 19:08:35 GMT    22.989942  33.095483  972.844472   \n",
            "2   2  Mon, 20 May 2019 19:08:36 GMT    23.000152  33.080467  972.804446   \n",
            "3   3  Mon, 20 May 2019 19:08:36 GMT    22.989942  33.105487  972.732905   \n",
            "4   4  Mon, 20 May 2019 19:08:37 GMT    22.995047  33.105482  972.768675   \n",
            "\n",
            "   Co2 Gas  PM2.5  PM10 Daytime  \n",
            "0      626    3.8   8.8   Night  \n",
            "1      627    3.8   8.9   Night  \n",
            "2      627    3.8   8.9   Night  \n",
            "3      626    3.8   8.9   Night  \n",
            "4      626    3.7   8.3   Night  \n",
            "<class 'pandas.core.frame.DataFrame'>\n",
            "RangeIndex: 4100 entries, 0 to 4099\n",
            "Data columns (total 9 columns):\n",
            " #   Column       Non-Null Count  Dtype  \n",
            "---  ------       --------------  -----  \n",
            " 0   ID           4100 non-null   int64  \n",
            " 1   Datetime     4100 non-null   object \n",
            " 2   Temperature  4100 non-null   float64\n",
            " 3   Humidity     4100 non-null   float64\n",
            " 4   Pressure     4100 non-null   float64\n",
            " 5   Co2 Gas      4100 non-null   int64  \n",
            " 6   PM2.5        4100 non-null   float64\n",
            " 7   PM10         4100 non-null   float64\n",
            " 8   Daytime      4100 non-null   object \n",
            "dtypes: float64(5), int64(2), object(2)\n",
            "memory usage: 288.4+ KB\n",
            "None\n",
            "                ID  Temperature     Humidity     Pressure      Co2 Gas  \\\n",
            "count  4100.000000  4100.000000  4100.000000  4100.000000  4100.000000   \n",
            "mean   2708.036585    25.495766    26.717673   972.445216   585.630732   \n",
            "std    1511.553258     1.544276     4.647934     2.133553    70.648084   \n",
            "min       0.000000    22.877633    19.940209   971.496321   202.000000   \n",
            "25%    1024.750000    23.010362    23.672215   972.151132   536.000000   \n",
            "50%    2949.500000    26.313355    24.397101   972.418327   545.000000   \n",
            "75%    3974.250000    26.497142    33.548111   972.716458   629.000000   \n",
            "max    4999.000000    27.640713    43.001648  1107.566634  1015.000000   \n",
            "\n",
            "             PM2.5         PM10  \n",
            "count  4100.000000  4100.000000  \n",
            "mean     31.674317    43.349195  \n",
            "std     117.932525   146.484405  \n",
            "min       3.400000     6.100000  \n",
            "25%       4.600000     9.500000  \n",
            "50%       4.900000    10.800000  \n",
            "75%       5.300000    12.400000  \n",
            "max     913.000000  1238.000000  \n"
          ]
        }
      ]
    },
    {
      "cell_type": "code",
      "source": [
        "print(data.isnull().sum())"
      ],
      "metadata": {
        "colab": {
          "base_uri": "https://localhost:8080/"
        },
        "id": "KOgChp69vsNx",
        "outputId": "da47a2dc-0c05-499c-f4f8-649c2df29350"
      },
      "execution_count": 4,
      "outputs": [
        {
          "output_type": "stream",
          "name": "stdout",
          "text": [
            "ID             0\n",
            "Datetime       0\n",
            "Temperature    0\n",
            "Humidity       0\n",
            "Pressure       0\n",
            "Co2 Gas        0\n",
            "PM2.5          0\n",
            "PM10           0\n",
            "Daytime        0\n",
            "dtype: int64\n"
          ]
        }
      ]
    },
    {
      "cell_type": "code",
      "source": [
        "threshold = 0.5 * data.shape[0]\n",
        "data = data.dropna(thresh=threshold, axis=1)\n",
        "numeric_cols = data.select_dtypes(include=np.number).columns\n",
        "data[numeric_cols] = data[numeric_cols].fillna(data[numeric_cols].mean())"
      ],
      "metadata": {
        "id": "QYu7RMUewEjz"
      },
      "execution_count": 10,
      "outputs": []
    },
    {
      "cell_type": "code",
      "source": [
        "plt.figure(figsize=(6, 4))\n",
        "data.iloc[:, -1].value_counts().plot(kind='bar')\n",
        "plt.title(\"Target Class Distribution\")\n",
        "plt.xlabel(\"Class\")\n",
        "plt.ylabel(\"Count\")\n",
        "plt.show()"
      ],
      "metadata": {
        "colab": {
          "base_uri": "https://localhost:8080/",
          "height": 433
        },
        "id": "kfmJvYQcw2Jw",
        "outputId": "d9ad3c87-46ec-4805-895e-1fee877741c3"
      },
      "execution_count": 11,
      "outputs": [
        {
          "output_type": "display_data",
          "data": {
            "text/plain": [
              "<Figure size 600x400 with 1 Axes>"
            ],
            "image/png": "[encoded data removed]"
          },
          "metadata": {}
        }
      ]
    },
    {
      "cell_type": "code",
      "source": [
        "plt.figure(figsize=(12, 10))\n",
        "numeric_data = data.iloc[:, :20].select_dtypes(include=np.number)\n",
        "sns.heatmap(numeric_data.corr(), annot=False, cmap='coolwarm')\n",
        "plt.title(\"Correlation Heatmap (first 20 features)\")\n",
        "plt.show()"
      ],
      "metadata": {
        "colab": {
          "base_uri": "https://localhost:8080/",
          "height": 623
        },
        "id": "wihBUK-Bw7K_",
        "outputId": "8c03d497-c7da-4e8b-b566-43aebb662676"
      },
      "execution_count": 13,
      "outputs": [
        {
          "output_type": "display_data",
          "data": {
            "text/plain": [
              "<Figure size 1200x1000 with 2 Axes>"
            ],
            "image/png": "[encoded data removed]"
          },
          "metadata": {}
        }
      ]
    },
    {
      "cell_type": "code",
      "source": [
        "X = data.drop(columns=[data.columns[-1]])  # features\n",
        "y = data[data.columns[-1]]\n",
        "object_cols = X.select_dtypes(include=['object']).columns\n",
        "X = X.drop(columns=object_cols)\n",
        "sm = SMOTE(random_state=42)\n",
        "X_res, y_res = sm.fit_resample(X, y)"
      ],
      "metadata": {
        "id": "e0pdY7bqxiwy"
      },
      "execution_count": 15,
      "outputs": []
    },
    {
      "cell_type": "code",
      "source": [
        "X_train, X_test, y_train, y_test = train_test_split(X_res, y_res, test_size=0.2, random_state=42)"
      ],
      "metadata": {
        "id": "WDlv0XUqyUxG"
      },
      "execution_count": 16,
      "outputs": []
    },
    {
      "cell_type": "code",
      "source": [
        "scaler = StandardScaler()\n",
        "X_train = scaler.fit_transform(X_train)\n",
        "X_test = scaler.transform(X_test)\n",
        "models = {\n",
        "    \"Random Forest\": RandomForestClassifier(),\n",
        "    \"SVM\": SVC(),\n",
        "    \"Naive Bayes\": GaussianNB()\n",
        "}\n"
      ],
      "metadata": {
        "id": "0nhfAI-oyjRR"
      },
      "execution_count": 18,
      "outputs": []
    },
    {
      "cell_type": "code",
      "source": [
        "for name, model in models.items():\n",
        "    print(f\"\\nTraining {name}...\")\n",
        "    model.fit(X_train, y_train)\n",
        "    y_pred = model.predict(X_test)\n",
        "    print(f\"Accuracy: {accuracy_score(y_test, y_pred):.4f}\")\n",
        "    print(classification_report(y_test, y_pred))\n"
      ],
      "metadata": {
        "colab": {
          "base_uri": "https://localhost:8080/"
        },
        "id": "Ta2lD3HRyufH",
        "outputId": "66956565-46d4-4960-ac1d-e49658a20f40"
      },
      "execution_count": 19,
      "outputs": [
        {
          "output_type": "stream",
          "name": "stdout",
          "text": [
            "\n",
            "Training Random Forest...\n",
            "Accuracy: 1.0000\n",
            "              precision    recall  f1-score   support\n",
            "\n",
            "         Day       1.00      1.00      1.00       591\n",
            "       Night       1.00      1.00      1.00       609\n",
            "\n",
            "    accuracy                           1.00      1200\n",
            "   macro avg       1.00      1.00      1.00      1200\n",
            "weighted avg       1.00      1.00      1.00      1200\n",
            "\n",
            "\n",
            "Training SVM...\n",
            "Accuracy: 1.0000\n",
            "              precision    recall  f1-score   support\n",
            "\n",
            "         Day       1.00      1.00      1.00       591\n",
            "       Night       1.00      1.00      1.00       609\n",
            "\n",
            "    accuracy                           1.00      1200\n",
            "   macro avg       1.00      1.00      1.00      1200\n",
            "weighted avg       1.00      1.00      1.00      1200\n",
            "\n",
            "\n",
            "Training Naive Bayes...\n",
            "Accuracy: 0.9967\n",
            "              precision    recall  f1-score   support\n",
            "\n",
            "         Day       0.99      1.00      1.00       591\n",
            "       Night       1.00      0.99      1.00       609\n",
            "\n",
            "    accuracy                           1.00      1200\n",
            "   macro avg       1.00      1.00      1.00      1200\n",
            "weighted avg       1.00      1.00      1.00      1200\n",
            "\n"
          ]
        }
      ]
    },
    {
      "cell_type": "code",
      "source": [
        "param_grid_rf = {\n",
        "    'n_estimators': [50, 100, 150],\n",
        "    'max_depth': [None, 10, 20],\n",
        "    'min_samples_split': [2, 5, 10]\n",
        "}\n",
        "grid_rf = GridSearchCV(RandomForestClassifier(), param_grid_rf, cv=5)\n",
        "grid_rf.fit(X_train, y_train)\n",
        "y_pred_rf = grid_rf.predict(X_test)\n",
        "print(\"\\nBest Random Forest Model\")\n",
        "print(grid_rf.best_params_)\n",
        "print(f\"Accuracy: {accuracy_score(y_test, y_pred_rf):.4f}\")\n",
        "print(classification_report(y_test, y_pred_rf))\n"
      ],
      "metadata": {
        "colab": {
          "base_uri": "https://localhost:8080/"
        },
        "id": "yp6qwO_qyzYw",
        "outputId": "b34b6e08-fb0a-49be-e9e3-421e12a8686c"
      },
      "execution_count": 20,
      "outputs": [
        {
          "output_type": "stream",
          "name": "stdout",
          "text": [
            "\n",
            "Best Random Forest Model\n",
            "{'max_depth': None, 'min_samples_split': 2, 'n_estimators': 50}\n",
            "Accuracy: 1.0000\n",
            "              precision    recall  f1-score   support\n",
            "\n",
            "         Day       1.00      1.00      1.00       591\n",
            "       Night       1.00      1.00      1.00       609\n",
            "\n",
            "    accuracy                           1.00      1200\n",
            "   macro avg       1.00      1.00      1.00      1200\n",
            "weighted avg       1.00      1.00      1.00      1200\n",
            "\n"
          ]
        }
      ]
    },
    {
      "cell_type": "code",
      "source": [
        "import joblib\n",
        "joblib.dump(grid_rf.best_estimator_, \"best_rf_model.pkl\")"
      ],
      "metadata": {
        "colab": {
          "base_uri": "https://localhost:8080/"
        },
        "id": "pvFjTrsdzKEA",
        "outputId": "30a58128-a5c6-4049-9ba3-ddfc56cfe548"
      },
      "execution_count": 21,
      "outputs": [
        {
          "output_type": "execute_result",
          "data": {
            "text/plain": [
              "['best_rf_model.pkl']"
            ]
          },
          "metadata": {},
          "execution_count": 21
        }
      ]
    },
    {
      "cell_type": "markdown",
      "source": [
        "**Conclusion:**\n",
        "- Random Forest performed the best with optimized hyperparameters.\n",
        "- SMOTE helped in balancing the target class effectively.\n",
        "- Feature standardization was necessary to enhance performance.\n",
        "- Further improvement can be done using feature selection or dimensionality reduction (e.g., PCA)."
      ],
      "metadata": {
        "id": "kIICAlYkzgIx"
      }
    }
  ]
}